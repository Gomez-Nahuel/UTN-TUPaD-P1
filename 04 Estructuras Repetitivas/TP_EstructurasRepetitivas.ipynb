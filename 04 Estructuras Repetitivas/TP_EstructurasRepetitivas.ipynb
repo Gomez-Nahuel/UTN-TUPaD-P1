{
 "cells": [
  {
   "cell_type": "markdown",
   "id": "463c6847",
   "metadata": {},
   "source": [
    "1) Crea un programa que imprima en pantalla todos los números enteros desde 0 hasta 100 (incluyendo ambos extremos), en orden creciente, mostrando un número por línea."
   ]
  },
  {
   "cell_type": "code",
   "execution_count": null,
   "id": "0ccfdad7",
   "metadata": {},
   "outputs": [],
   "source": [
    "for numero in range(0, 101):\n",
    "    print(numero)"
   ]
  },
  {
   "cell_type": "markdown",
   "id": "00c8de4d",
   "metadata": {},
   "source": [
    "2) Desarrolla un programa que solicite al usuario un número entero y determine la cantidad de dígitos que contiene."
   ]
  },
  {
   "cell_type": "code",
   "execution_count": null,
   "id": "ac194a62",
   "metadata": {},
   "outputs": [],
   "source": [
    "numero = input(\"Ingresá un número entero: \")\n",
    "cantidad_digitos = len(numero)\n",
    "\n",
    "print(\"La cantidad de dígitos es:\", cantidad_digitos)"
   ]
  },
  {
   "cell_type": "markdown",
   "id": "91c169f2",
   "metadata": {},
   "source": [
    "3) Escribe un programa que sume todos los números enteros comprendidos entre dos valores dados por el usuario, excluyendo esos dos valores."
   ]
  },
  {
   "cell_type": "code",
   "execution_count": null,
   "id": "9fbeba67",
   "metadata": {},
   "outputs": [],
   "source": [
    "inicio = int(input(\"Ingresá el primer número: \"))\n",
    "fin = int(input(\"Ingresá el segundo número: \"))\n",
    "\n",
    "if inicio > fin:\n",
    "    inicio, fin = fin, inicio\n",
    "\n",
    "suma = 0\n",
    "for i in range(inicio + 1, fin):\n",
    "    suma += i\n",
    "\n",
    "print(\"La suma de los números entre\", inicio, \"y\", fin, \"es:\", suma)"
   ]
  },
  {
   "cell_type": "markdown",
   "id": "5ce7ebcf",
   "metadata": {},
   "source": [
    "4) Elabora un programa que permita al usuario ingresar números enteros y los sume en secuencia. El programa debe detenerse y mostrar el total acumulado cuando el usuario ingrese\n",
    "un 0."
   ]
  },
  {
   "cell_type": "code",
   "execution_count": null,
   "id": "34ba0fc9",
   "metadata": {},
   "outputs": [],
   "source": [
    "total = 0\n",
    "numero = int(input(\"Ingresá un número (0 para finalizar): \"))\n",
    "\n",
    "while numero != 0:\n",
    "    total += numero\n",
    "    numero = int(input(\"Ingresá un número (0 para finalizar): \"))\n",
    "\n",
    "print(\"La suma total es:\", total)"
   ]
  },
  {
   "cell_type": "markdown",
   "id": "15a3b49d",
   "metadata": {},
   "source": [
    "5) Crea un juego en el que el usuario deba adivinar un número aleatorio entre 0 y 9. Al final, el programa debe mostrar cuántos intentos fueron necesarios para acertar el número."
   ]
  },
  {
   "cell_type": "code",
   "execution_count": null,
   "id": "6868f856",
   "metadata": {},
   "outputs": [],
   "source": [
    "import random\n",
    "\n",
    "numero_secreto = random.randint(0, 9)\n",
    "intentos = 0\n",
    "numero_usuario = -1\n",
    "\n",
    "while numero_usuario != numero_secreto:\n",
    "    numero_usuario = int(input(\"Adiviná el número (entre 0 y 9): \"))\n",
    "    intentos += 1\n",
    "\n",
    "print(\"¡Adivinaste el número!\")\n",
    "print(\"Cantidad de intentos:\", intentos)\n"
   ]
  },
  {
   "cell_type": "markdown",
   "id": "f85b33e1",
   "metadata": {},
   "source": [
    "6) Desarrolla un programa que imprima en pantalla todos los números pares comprendidos entre 0 y 100, en orden decreciente."
   ]
  },
  {
   "cell_type": "code",
   "execution_count": null,
   "id": "bc38e92d",
   "metadata": {},
   "outputs": [],
   "source": [
    "for numero in range(100, -1, -1):\n",
    "    if numero % 2 == 0:\n",
    "        print(numero)"
   ]
  },
  {
   "cell_type": "markdown",
   "id": "768c4145",
   "metadata": {},
   "source": [
    "7) Crea un programa que calcule la suma de todos los números comprendidos entre 0 y un número entero positivo indicado por el usuario."
   ]
  },
  {
   "cell_type": "code",
   "execution_count": null,
   "id": "1a14afaf",
   "metadata": {},
   "outputs": [],
   "source": [
    "limite = int(input(\"Ingresá un número entero positivo: \"))\n",
    "suma = 0\n",
    "\n",
    "for i in range(0, limite + 1):\n",
    "    suma += i\n",
    "\n",
    "print(\"La suma de los números desde 0 hasta\", limite, \"es:\", suma)"
   ]
  },
  {
   "cell_type": "markdown",
   "id": "0ccf68f5",
   "metadata": {},
   "source": [
    "8) Escribe un programa que permita al usuario ingresar 100 números enteros. Luego, el programa debe indicar cuántos de estos números son pares, cuántos son impares, cuántos son negativos y cuántos son positivos. (Nota: para probar el programa puedes usar una cantidad menor, pero debe estar preparado para procesar 100 números con un solo cambio)."
   ]
  },
  {
   "cell_type": "code",
   "execution_count": null,
   "id": "f4ae1bf3",
   "metadata": {},
   "outputs": [],
   "source": [
    "cantidad = 100\n",
    "\n",
    "pares = 0\n",
    "impares = 0\n",
    "positivos = 0\n",
    "negativos = 0\n",
    "\n",
    "for i in range(cantidad):\n",
    "    numero = int(input(f\"Ingrese el número {i + 1}: \"))\n",
    "    \n",
    "    if numero % 2 == 0:\n",
    "        pares += 1\n",
    "    else:\n",
    "        impares += 1\n",
    "\n",
    "    if numero > 0:\n",
    "        positivos += 1\n",
    "    elif numero < 0:\n",
    "        negativos += 1\n",
    "\n",
    "print(\"Cantidad de números pares:\", pares)\n",
    "print(\"Cantidad de números impares:\", impares)\n",
    "print(\"Cantidad de números positivos:\", positivos)\n",
    "print(\"Cantidad de números negativos:\", negativos)\n"
   ]
  },
  {
   "cell_type": "markdown",
   "id": "23704f59",
   "metadata": {},
   "source": [
    "9) Elabora un programa que permita al usuario ingresar 100 números enteros y luego calcule la media de esos valores. (Nota: puedes probar el programa con una cantidad menor, pero debe poder procesar 100 números cambiando solo un valor)."
   ]
  },
  {
   "cell_type": "code",
   "execution_count": null,
   "id": "dc9a7bb3",
   "metadata": {},
   "outputs": [],
   "source": [
    "cantidad = 100\n",
    "\n",
    "suma = 0\n",
    "\n",
    "for i in range(cantidad):\n",
    "    numero = int(input(f\"Ingrese el número {i + 1}: \"))\n",
    "    suma += numero\n",
    "\n",
    "media = suma / cantidad\n",
    "\n",
    "print(\"La media de los\", cantidad, \"números es:\", media)\n"
   ]
  },
  {
   "cell_type": "markdown",
   "id": "3f190e08",
   "metadata": {},
   "source": [
    "10) Escribe un programa que invierta el orden de los dígitos de un número ingresado por el\n",
    "usuario. Ejemplo: si el usuario ingresa 547, el programa debe mostrar 745."
   ]
  },
  {
   "cell_type": "code",
   "execution_count": null,
   "id": "54ff8d9b",
   "metadata": {},
   "outputs": [],
   "source": [
    "numero = input(\"Ingresá un número: \")\n",
    "numero_invertido = numero[::-1]\n",
    "print(\"El número invertido es:\", numero_invertido)"
   ]
  }
 ],
 "metadata": {
  "kernelspec": {
   "display_name": "Python 3",
   "language": "python",
   "name": "python3"
  },
  "language_info": {
   "codemirror_mode": {
    "name": "ipython",
    "version": 3
   },
   "file_extension": ".py",
   "mimetype": "text/x-python",
   "name": "python",
   "nbconvert_exporter": "python",
   "pygments_lexer": "ipython3",
   "version": "3.11.9"
  }
 },
 "nbformat": 4,
 "nbformat_minor": 5
}
