{
 "cells": [
  {
   "cell_type": "markdown",
   "id": "1646bb89",
   "metadata": {},
   "source": [
    "# 🧠 **Tecnicatura en Programación a Distancia**\n",
    "\n",
    "## 📚 **Trabajo Práctico: Funciones**\n",
    "\n",
    "---\n",
    "\n",
    "### 👨‍🎓 **Alumno:** Gómez Saucedo Augusto Nahuel  \n",
    "### 🖥️ **Materia:** Programación 1  \n",
    "### 🏷️ **Comisión:** 14"
   ]
  },
  {
   "cell_type": "markdown",
   "id": "d08aa79a",
   "metadata": {},
   "source": [
    "1. Crear una función llamada imprimir_hola_mundo que imprima por pantalla el mensaje: “Hola Mundo!”. Llamar a esta función desde el programa principal."
   ]
  },
  {
   "cell_type": "code",
   "execution_count": null,
   "id": "ef0a2341",
   "metadata": {},
   "outputs": [],
   "source": [
    "# Definición de la función\n",
    "def imprimir_hola_mundo():\n",
    "    print(\"Hola Mundo!\")\n",
    "\n",
    "# Programa principal\n",
    "imprimir_hola_mundo()"
   ]
  },
  {
   "cell_type": "markdown",
   "id": "cf962b58",
   "metadata": {},
   "source": [
    "2. Crear una función llamada saludar_usuario(nombre) que reciba como parámetro un nombre y devuelva un saludo personalizado. Por ejemplo, si se llama con saludar_usuario(\"Marcos\"), deberá devolver: “Hola Marcos!”. Llamar a esta función desde el programa principal solicitando el nombre al usuario."
   ]
  },
  {
   "cell_type": "code",
   "execution_count": null,
   "id": "6d395886",
   "metadata": {},
   "outputs": [],
   "source": [
    "# Definición de la función\n",
    "def saludar_usuario(nombre):\n",
    "    return (f\"Hola {nombre}!\")\n",
    "\n",
    "# Programa principal\n",
    "nombre_usuario = input(\"Ingrese su nombre: \")\n",
    "saludo = saludar_usuario(nombre_usuario)\n",
    "print(saludo)"
   ]
  },
  {
   "cell_type": "markdown",
   "id": "2071ee44",
   "metadata": {},
   "source": [
    "3. Crear una función llamada informacion_personal(nombre, apellido, edad, residencia) que reciba cuatro parámetros e imprima: “Soy [nombre] [apellido], tengo [edad] años y vivo en [residencia]”. Pedir los datos al usuario y llamar a esta función con los valores ingresados."
   ]
  },
  {
   "cell_type": "code",
   "execution_count": null,
   "id": "8837be0c",
   "metadata": {},
   "outputs": [],
   "source": [
    "# Definición de la función\n",
    "def informacion_personal(nombre, apellido, edad, residencia):\n",
    "    print(f\"Soy {nombre} {apellido}, tengo {edad} años y vivo en {residencia}.\")\n",
    "\n",
    "# Programa principal\n",
    "nombre = input(\"Ingrese su nombre: \")\n",
    "apellido = input(\"Ingrese su apellido: \")\n",
    "edad = input(\"Ingrese su edad: \")\n",
    "residencia = input(\"Ingrese su lugar de residencia: \")\n",
    "\n",
    "informacion_personal(nombre, apellido, edad, residencia)"
   ]
  },
  {
   "cell_type": "markdown",
   "id": "76a3f52c",
   "metadata": {},
   "source": [
    "4. Crear dos funciones: calcular_area_circulo(radio) que reciba el radio como parámetro y devuelva el área del círculo. calcular_perimetro_circulo(radio) que reciba el radio como parámetro y devuelva el perímetro del círculo. Solicitar el radio al usuario y llamar ambas funciones para mostrar los resultados."
   ]
  },
  {
   "cell_type": "code",
   "execution_count": null,
   "id": "a3727263",
   "metadata": {},
   "outputs": [],
   "source": [
    "import math\n",
    "\n",
    "def calcular_area_circulo(radio):\n",
    "    return math.pi * (radio ** 2)\n",
    "\n",
    "def calcular_perimetro_circulo(radio):\n",
    "    return 2 * math.pi * radio\n",
    "\n",
    "# Programa principal\n",
    "radio = float(input(\"Ingrese el radio del círculo: \"))\n",
    "\n",
    "area = calcular_area_circulo(radio)\n",
    "perimetro = calcular_perimetro_circulo(radio)\n",
    "\n",
    "print(f\"El área del círculo es: {area}\")\n",
    "print(f\"El perímetro del círculo es: {perimetro}\")"
   ]
  },
  {
   "cell_type": "markdown",
   "id": "c5219618",
   "metadata": {},
   "source": [
    "5. Crear una función llamada segundos_a_horas(segundos) que reciba una cantidad de segundos como parámetro y devuelva la cantidad de horas correspondientes. Solicitar al usuario los segundos y mostrar el resultado usando esta función."
   ]
  },
  {
   "cell_type": "code",
   "execution_count": null,
   "id": "19d03ee4",
   "metadata": {},
   "outputs": [],
   "source": [
    "def segundos_a_horas(segundos):\n",
    "    return segundos / 3600\n",
    "\n",
    "# Programa principal\n",
    "segundos = int(input(\"Ingrese la cantidad de segundos: \"))\n",
    "horas = segundos_a_horas(segundos)\n",
    "\n",
    "print(f\"{segundos} segundos equivalen a {horas} horas.\")"
   ]
  },
  {
   "cell_type": "markdown",
   "id": "57b0a1a9",
   "metadata": {},
   "source": [
    "6. Crear una función llamada tabla_multiplicar(numero) que reciba un número como parámetro y imprima la tabla de multiplicar de ese número del 1 al 10. Pedir al usuario el número y llamar a la función."
   ]
  },
  {
   "cell_type": "code",
   "execution_count": null,
   "id": "867ece1d",
   "metadata": {},
   "outputs": [],
   "source": [
    "def tabla_multiplicar(numero):\n",
    "    for i in range(1, 11):\n",
    "        print(f\"{numero} x {i} = {numero * i}\")\n",
    "\n",
    "# Programa principal\n",
    "numero = int(input(\"Ingrese un número para ver su tabla de multiplicar: \"))\n",
    "tabla_multiplicar(numero)"
   ]
  },
  {
   "cell_type": "markdown",
   "id": "dbede536",
   "metadata": {},
   "source": [
    "7. Crear una función llamada operaciones_basicas(a, b) que reciba dos números como parámetros y devuelva una tupla con el resultado de sumarlos, restarlos, multiplicarlos y dividirlos. Mostrar los resultados de forma clara.\n"
   ]
  },
  {
   "cell_type": "code",
   "execution_count": null,
   "id": "338b1400",
   "metadata": {},
   "outputs": [],
   "source": [
    "def operaciones_basicas(a, b):\n",
    "    suma = a + b\n",
    "    resta = a - b\n",
    "    multiplicacion = a * b\n",
    "    division = a / b if b != 0 else \"No se puede dividir por cero\"\n",
    "    return (suma, resta, multiplicacion, division)\n",
    "\n",
    "# Programa principal\n",
    "a = float(input(\"Ingrese el primer número: \"))\n",
    "b = float(input(\"Ingrese el segundo número: \"))\n",
    "\n",
    "resultado = operaciones_basicas(a, b)\n",
    "\n",
    "print(f\"Suma: {resultado[0]}\")\n",
    "print(f\"Resta: {resultado[1]}\")\n",
    "print(f\"Multiplicación: {resultado[2]}\")\n",
    "print(f\"División: {resultado[3]}\")"
   ]
  },
  {
   "cell_type": "markdown",
   "id": "32c8166d",
   "metadata": {},
   "source": [
    "8. Crear una función llamada calcular_imc(peso, altura) que reciba el peso en kilogramos y la altura en metros, y devuelva el índice de masa corporal (IMC). Solicitar al usuario los datos y llamar a la función para mostrar el resultado con dos decimales."
   ]
  },
  {
   "cell_type": "code",
   "execution_count": null,
   "id": "da3adbf6",
   "metadata": {},
   "outputs": [],
   "source": [
    "def calcular_imc(peso, altura):\n",
    "    return peso / (altura ** 2)\n",
    "\n",
    "# Programa principal\n",
    "peso = float(input(\"Ingrese su peso en kilogramos: \"))\n",
    "altura = float(input(\"Ingrese su altura en metros: \"))\n",
    "\n",
    "imc = calcular_imc(peso, altura)\n",
    "\n",
    "print(f\"Su IMC es: {imc:.2f}\")"
   ]
  },
  {
   "cell_type": "markdown",
   "id": "0bea7f48",
   "metadata": {},
   "source": [
    "9. Crear una función llamada celsius_a_fahrenheit(celsius) que reciba una temperatura en grados Celsius y devuelva su equivalente en Fahrenheit. Pedir al usuario la temperatura en Celsius y mostrar el resultado usando la función."
   ]
  },
  {
   "cell_type": "code",
   "execution_count": null,
   "id": "5576efc9",
   "metadata": {},
   "outputs": [],
   "source": [
    "def celsius_a_fahrenheit(celsius):\n",
    "    return (celsius * 9/5) + 32\n",
    "\n",
    "# Programa principal\n",
    "celsius = float(input(\"Ingrese la temperatura en grados Celsius: \"))\n",
    "fahrenheit = celsius_a_fahrenheit(celsius)\n",
    "\n",
    "print(f\"{celsius}°C equivalen a {fahrenheit:.2f}°F\")"
   ]
  },
  {
   "cell_type": "markdown",
   "id": "6b8295ed",
   "metadata": {},
   "source": [
    "10.Crear una función llamada calcular_promedio(a, b, c) que reciba tres números como parámetros y devuelva el promedio de ellos. Solicitar los números al usuario y mostrar el resultado usando esta\n",
    "función."
   ]
  },
  {
   "cell_type": "code",
   "execution_count": null,
   "id": "0cfad1f9",
   "metadata": {},
   "outputs": [],
   "source": [
    "def calcular_promedio(a, b, c):\n",
    "    return (a + b + c) / 3\n",
    "\n",
    "# Programa principal\n",
    "a = float(input(\"Ingrese el primer número: \"))\n",
    "b = float(input(\"Ingrese el segundo número: \"))\n",
    "c = float(input(\"Ingrese el tercer número: \"))\n",
    "\n",
    "promedio = calcular_promedio(a, b, c)\n",
    "\n",
    "print(f\"El promedio de los tres números es: {promedio:.2f}\")"
   ]
  }
 ],
 "metadata": {
  "kernelspec": {
   "display_name": "Python 3",
   "language": "python",
   "name": "python3"
  },
  "language_info": {
   "codemirror_mode": {
    "name": "ipython",
    "version": 3
   },
   "file_extension": ".py",
   "mimetype": "text/x-python",
   "name": "python",
   "nbconvert_exporter": "python",
   "pygments_lexer": "ipython3",
   "version": "3.11.9"
  }
 },
 "nbformat": 4,
 "nbformat_minor": 5
}
